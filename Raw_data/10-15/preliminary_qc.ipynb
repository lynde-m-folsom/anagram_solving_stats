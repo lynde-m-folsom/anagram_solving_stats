{
 "cells": [
  {
   "cell_type": "markdown",
   "metadata": {},
   "source": [
    "#Preliminary exploratory notebook\n",
    "\n",
    "From the pilot I want to look through the data thus far and see if there are particular anagrams, responding, or patterns that we need to address before collecting more. \n",
    "\n",
    "Key things to see: \n",
    "    - do people respond with real words\n",
    "    - do people respond with the intended correct word\n",
    "    - what are the kinds of RTs that we see\n",
    "    - are some anagrams simply too difficult"
   ]
  },
  {
   "cell_type": "code",
   "execution_count": 1,
   "metadata": {},
   "outputs": [],
   "source": [
    "import pandas as pd\n",
    "# update to the file name to be read\n",
    "# the header is the row that has the collumn names (zero indexed, and verify which is the header row before running)\n",
    "# the sep is the seperator of the data\n",
    "df = pd.read_csv(\"anagram_rating_pilot_filtered_20241031_1616.csv\", header=0, sep=',')"
   ]
  },
  {
   "cell_type": "markdown",
   "metadata": {},
   "source": [
    "Lets make a file that is the anagram id number in collumn A, the anagram in B, the correct word in C, and the responses in D."
   ]
  },
  {
   "cell_type": "markdown",
   "metadata": {},
   "source": [
    "Below becomes response DF function named get_response_df"
   ]
  },
  {
   "cell_type": "code",
   "execution_count": 2,
   "metadata": {},
   "outputs": [],
   "source": [
    "grammerdf = df.filter(['id', 'anagram', 'response']).dropna()\n",
    "grammerdf = grammerdf[~((grammerdf['id'] == 'practice') | (grammerdf['id']== 'end_confirm_subjid'))]\n",
    "grammerdf_grouped = grammerdf.groupby('id').agg({'anagram': 'first', 'response': ' '.join}).reset_index()"
   ]
  },
  {
   "cell_type": "markdown",
   "metadata": {},
   "source": [
    "From the experiment, grab the stimuli file and add to working directory. Using node in the terminal run the javascript to convert it to a json. That way we can bring it into this notebook. "
   ]
  },
  {
   "cell_type": "code",
   "execution_count": 3,
   "metadata": {},
   "outputs": [],
   "source": [
    "#import the stimuli file from the experiment (since this ensures the same data and lists)\n",
    "import json\n",
    "with open('stimuli.json') as f:\n",
    "    stimuli = json.load(f)\n",
    "\n",
    "#remove the brackets and separate cols by the comma \n",
    "stimuli = pd.DataFrame(stimuli)\n",
    "stimulidf = stimuli.filter(['id', 'anagram', 'correct', 'valid']).drop_duplicates()\n",
    "#merge the two dataframes\n",
    "merged = pd.merge(grammerdf_grouped, stimulidf, on='id', how='left').drop_duplicates()\n",
    "merged = merged.filter(['id', 'anagram_x', 'correct', 'response', 'valid']).drop_duplicates()\n",
    "\n",
    "# remove the bracket and '' before setting the valid col to a list of strings\n",
    "merged['valid'] = merged['valid'].apply(lambda x: x.replace('[', '').replace(']', '').replace('\\'', ''))\n",
    "merged['valid'] = merged['valid'].apply(lambda x: x.split(', '))\n"
   ]
  },
  {
   "cell_type": "markdown",
   "metadata": {},
   "source": [
    "Lets start getting some information about the anagrams now that we have the correct collumn added, lets see a proportion of responses that match the correct one.  \n",
    "\n",
    "When we have that lets then start thinking about the RT. "
   ]
  },
  {
   "cell_type": "code",
   "execution_count": 6,
   "metadata": {},
   "outputs": [],
   "source": [
    "max_collength =  merged.response.str.split().apply(len).max()\n"
   ]
  },
  {
   "cell_type": "code",
   "execution_count": null,
   "metadata": {},
   "outputs": [],
   "source": [
    "anagram_stat = merged['response'].str.split(' ', expand=True)\n",
    "anagram_stat_columns = [f\"response{i+1}\" for i in range(max_collength)]\n",
    "anagram_stat.columns = anagram_stat_columns\n",
    "anagram_stat = pd.concat([merged, anagram_stat], axis=1)\n",
    "\n",
    "# Count the number of responses that match the 'correct' column\n",
    "anagram_stat['match_count'] = anagram_stat[anagram_stat_columns].apply(lambda row: row.isin(anagram_stat.loc[row.name, 'correct']).sum(), axis=1)\n",
    "# Insert the new column next to the 'id' column\n",
    "id_index = anagram_stat.columns.get_loc('id')\n",
    "cols = anagram_stat.columns.tolist()\n",
    "cols.insert(id_index + 1, cols.pop(cols.index('match_count')))\n",
    "anagram_stat = anagram_stat[cols]\n",
    "\n",
    "# Count the number of responses that are not empty\n",
    "anagram_stat['response_count'] = anagram_stat[['response1', 'response2', 'response3', 'response4', 'response5', 'response6', 'response7', 'response8', 'response9']].apply(lambda row: row.notnull().sum(), axis=1)\n",
    "# Add to the df next to the id column\n",
    "cols = anagram_stat.columns.tolist()\n",
    "cols.insert(id_index + 1, cols.pop(cols.index('response_count')))\n",
    "anagram_stat = anagram_stat[cols]\n",
    "\n",
    "\n",
    "# Compute the ratio of correct responses to the total number of responses, ie. match_count / response_count\n",
    "anagram_stat['match_ratio'] = anagram_stat['match_count'] / anagram_stat['response_count']\n",
    "# Add to the df next to the id column\n",
    "cols = anagram_stat.columns.tolist()\n",
    "cols.insert(id_index + 1, cols.pop(cols.index('match_ratio')))\n",
    "anagram_stat = anagram_stat[cols]\n",
    "\n",
    "# Compute the number of responses that are not empty and do not match the correct response\n",
    "anagram_stat['non_match_count'] = anagram_stat['response_count'] - anagram_stat['match_count']\n",
    "# Add to the df next to the id column\n",
    "cols = anagram_stat.columns.tolist()\n",
    "cols.insert(id_index + 1, cols.pop(cols.index('non_match_count')))\n",
    "anagram_stat = anagram_stat[cols]\n",
    "\n",
    "\n",
    "\n",
    "# Use the \"valid\" to see how many responses are valid, count the number of valid responses and add to the df\n",
    "anagram_stat['valid_count'] = anagram_stat[['response1', 'response2', 'response3', 'response4', 'response5', 'response6', 'response7', 'response8', 'response9']].apply(lambda row: row.isin(anagram_stat.loc[row.name, 'valid']).sum(), axis=1)\n",
    "# Add to the df next to the id column\n",
    "cols = anagram_stat.columns.tolist()    \n",
    "cols.insert(id_index + 1, cols.pop(cols.index('valid_count')))\n",
    "anagram_stat = anagram_stat[cols]\n",
    "\n",
    "# Use the valid_count to compute the ratio of valid responses to the total number of responses, ie. valid_count / response_count\n",
    "anagram_stat['valid_ratio'] = anagram_stat['valid_count'] / anagram_stat['response_count']\n",
    "# Add to the df next to the id column\n",
    "cols = anagram_stat.columns.tolist()\n",
    "cols.insert(id_index + 1, cols.pop(cols.index('valid_ratio')))\n",
    "anagram_stat = anagram_stat[cols]\n",
    "\n",
    "\n",
    "# Use the responses to count the number of 'idk' responses and then add a column to the df\n",
    "anagram_stat['idk_count'] = anagram_stat[['response1', 'response2', 'response3', 'response4', 'response5', 'response6', 'response7', 'response8', 'response9']].apply(lambda row: (row == 'idk').sum(), axis=1)\n",
    "# Add to the df next to the id column\n",
    "cols = anagram_stat.columns.tolist()\n",
    "cols.insert(id_index + 1, cols.pop(cols.index('idk_count')))\n",
    "anagram_stat = anagram_stat[cols]\n",
    "\n",
    "# Use the idk_count to compute the ratio of 'idk' responses to the total number of responses, ie. idk_count / response_count\n",
    "anagram_stat['idk_ratio'] = anagram_stat['idk_count'] / anagram_stat['response_count']\n",
    "# Add to the df next to the id column\n",
    "cols = anagram_stat.columns.tolist()\n",
    "cols.insert(id_index + 1, cols.pop(cols.index('idk_ratio')))\n",
    "anagram_stat = anagram_stat[cols]\n",
    "\n",
    "\n",
    "# make a plot of the idk ratio and the response time"
   ]
  },
  {
   "cell_type": "markdown",
   "metadata": {},
   "source": [
    "# To do\n",
    "plot idk ratio to response time\n",
    "get the distribution people wise proportion of idk (how much idk for that subject)\n"
   ]
  },
  {
   "cell_type": "code",
   "execution_count": 5,
   "metadata": {},
   "outputs": [],
   "source": [
    "# Save out the dataframe to a csv file but remove only the response column (since it is not needed)\n",
    "anagram_stat.drop(['response'], axis=1).to_csv('anagram_stat.csv', index=False)\n"
   ]
  }
 ],
 "metadata": {
  "kernelspec": {
   "display_name": "base",
   "language": "python",
   "name": "python3"
  },
  "language_info": {
   "codemirror_mode": {
    "name": "ipython",
    "version": 3
   },
   "file_extension": ".py",
   "mimetype": "text/x-python",
   "name": "python",
   "nbconvert_exporter": "python",
   "pygments_lexer": "ipython3",
   "version": "3.12.1"
  }
 },
 "nbformat": 4,
 "nbformat_minor": 2
}
