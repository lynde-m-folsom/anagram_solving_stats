{
 "cells": [
  {
   "cell_type": "markdown",
   "metadata": {},
   "source": [
    "# This is a notebook for building my util files\n",
    "So because I am more comfortable with notebook styles I intend to transition toward building utility functions that are semi-stand alone. To do that I'm going to make this notebook as a sort of fucking around till I've found out. \n",
    "\n",
    "The particulars here are:\n",
    "## QC\n",
    "## Subject wise, vs trial wise\n",
    "## Should spit out the predicted info at the end"
   ]
  },
  {
   "cell_type": "code",
   "execution_count": null,
   "metadata": {
    "vscode": {
     "languageId": "plaintext"
    }
   },
   "outputs": [],
   "source": []
  }
 ],
 "metadata": {
  "language_info": {
   "name": "python"
  }
 },
 "nbformat": 4,
 "nbformat_minor": 2
}
