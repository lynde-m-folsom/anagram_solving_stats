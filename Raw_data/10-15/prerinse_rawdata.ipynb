{
 "cells": [
  {
   "cell_type": "markdown",
   "metadata": {},
   "source": [
    "# Setting up a simple script for cleaning the data of prolific ID\n",
    "\n",
    "This notebook just cleans out the prolific ID and the sandbox trials during dev so that we cans save to the git. \n",
    "\n",
    "Essentially a pre -clean. "
   ]
  },
  {
   "cell_type": "code",
   "execution_count": 1,
   "metadata": {},
   "outputs": [
    {
     "name": "stdout",
     "output_type": "stream",
     "text": [
      "   workerid proliferate.condition   anagram answer_correct category   correct  \\\n",
      "0       393                 SetD2       NaN            NaN      NaN       NaN   \n",
      "1       393                 SetD2       NaN            NaN  consent       NaN   \n",
      "2       393                 SetD2       NaN            NaN      NaN       NaN   \n",
      "3       393                 SetD2  rapctiec          False      NaN  practice   \n",
      "4       393                 SetD2       NaN            NaN      NaN       NaN   \n",
      "\n",
      "         id interactions internal_node_id  response        rt       set  \\\n",
      "0       NaN          NaN          0.0-0.0       NaN  105202.0       NaN   \n",
      "1       NaN          NaN          0.0-1.0         0    8120.0       NaN   \n",
      "2       NaN          NaN          0.0-2.0       NaN   60106.0       NaN   \n",
      "3  practice          NaN          0.0-3.0  practice   16867.1  practice   \n",
      "4       NaN          NaN          0.0-4.0       NaN   70474.0       NaN   \n",
      "\n",
      "     setRun                                           stimulus  subject  \\\n",
      "0       NaN                                                NaN      999   \n",
      "1       NaN  <p>By pressing continue below, I understand th...      999   \n",
      "2       NaN                                                NaN      999   \n",
      "3  practice                                                NaN      999   \n",
      "4       NaN                                                NaN      999   \n",
      "\n",
      "   time_elapsed  trial_index            trial_type  \\\n",
      "0        105211            0          instructions   \n",
      "1        113331            1  html-button-response   \n",
      "2        173438            2          instructions   \n",
      "3        190307            3                  gram   \n",
      "4        260782            4          instructions   \n",
      "\n",
      "                                        view_history  error  \n",
      "0  [{'page_index': 0, 'viewing_time': 5901}, {'pa...    NaN  \n",
      "1                                                NaN    NaN  \n",
      "2  [{'page_index': 0, 'viewing_time': 5678}, {'pa...    NaN  \n",
      "3                                                NaN    NaN  \n",
      "4  [{'page_index': 0, 'viewing_time': 60908}, {'p...    NaN  \n",
      "      workerid                  response\n",
      "210        377  5e1d70edd727e90dea42d137\n",
      "516        404  5b915c9d22d85d000115c0f5\n",
      "725        371  605fbc12c61d8d10250f6e51\n",
      "903        391  664c110f01c7c90b0017407c\n",
      "1063       374  66b67e59805551bf822ba31a\n",
      "1308       372  66332170efa22a35db5136d8\n",
      "1568       370  5ac54531e1546900019c0487\n",
      "1783       400  5bed01c8306ec30001fb80e2\n",
      "2175       380  66af746c1fa37fda46332856\n",
      "2391       383  664f72c5d72f85c6cd81ae82\n",
      "2749       396  5be9ce784f251d00015ce92e\n",
      "3052       379  5dd4074feab0423daf012f92\n"
     ]
    }
   ],
   "source": [
    "import pandas as pd\n",
    "# update to the file name to be read\n",
    "# the header is the row that has the collumn names (zero indexed, and verify which is the header row before running)\n",
    "# the sep is the seperator of the data\n",
    "raw_data = pd.read_csv('anagram_stat_pilot-data.csv', header=0, sep=',') \n",
    "raw_dataf = pd.DataFrame(raw_data) #make the data into a dataframe\n",
    "print(raw_dataf.head()) #print the first 5 rows of the data\n",
    "\n",
    "# going to make a df that is the key, matching workerid with the prolific id. \n",
    "# once we do that, we can save the id key as a csv and then remove prolific id from the data\n",
    "filtered_for_idkey_data = raw_dataf[raw_dataf['id'].str.contains('end_confirm_subjid', na=False)]\n",
    "id_key = filtered_for_idkey_data[['workerid', 'response']].dropna()\n",
    "print(id_key)\n",
    "id_key.to_csv('id_key.csv', index=False) "
   ]
  },
  {
   "cell_type": "markdown",
   "metadata": {},
   "source": [
    "Okay so we made id key for removing the identification, lets remove the data from non prolific people (like me).."
   ]
  },
  {
   "cell_type": "code",
   "execution_count": 2,
   "metadata": {},
   "outputs": [],
   "source": [
    "# group by the workerid then filter out the rows that have worker ids that are for not prolific workers. So in this case I am filtering out Lynde which is rows that are worker id 323.\n",
    "\n",
    "df = raw_dataf[raw_dataf['workerid'] != 323]\n",
    "# remove the rows that contain are containing prolific ids, those would be the rows that have the end_confirm_subjid in the id column\n",
    "df = df[~df['id'].str.contains('end_confirm_subjid', na=False)]\n",
    "\n",
    "#write that to a csv with the date and time in the name\n",
    "from datetime import datetime\n",
    "now = datetime.now()\n",
    "dt_string = now.strftime(\"%Y%m%d_%H%M\")\n",
    "timestamped = 'anagram_rating_pilot_filtered_' + dt_string + '.csv'\n",
    "df.to_csv(timestamped, index=False)"
   ]
  }
 ],
 "metadata": {
  "kernelspec": {
   "display_name": "Python (miniconda3)",
   "language": "python",
   "name": "miniconda3"
  },
  "language_info": {
   "codemirror_mode": {
    "name": "ipython",
    "version": 3
   },
   "file_extension": ".py",
   "mimetype": "text/x-python",
   "name": "python",
   "nbconvert_exporter": "python",
   "pygments_lexer": "ipython3",
   "version": "3.12.1"
  }
 },
 "nbformat": 4,
 "nbformat_minor": 2
}
