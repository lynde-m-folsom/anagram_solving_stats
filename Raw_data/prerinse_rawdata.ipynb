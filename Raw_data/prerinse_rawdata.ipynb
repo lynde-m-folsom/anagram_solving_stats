{
 "cells": [
  {
   "cell_type": "markdown",
   "metadata": {},
   "source": [
    "# Setting up a simple script for cleaning the data of prolific ID\n",
    "\n",
    "This notebook just cleans out the prolific ID and the sandbox trials during dev so that we cans save to the git. \n",
    "\n",
    "Essentially a pre -clean. "
   ]
  },
  {
   "cell_type": "code",
   "execution_count": 2,
   "metadata": {},
   "outputs": [
    {
     "name": "stdout",
     "output_type": "stream",
     "text": [
      "   workerid proliferate.condition   anagram category        id interactions  \\\n",
      "0       354                 SetB3       NaN      NaN       NaN          NaN   \n",
      "1       354                 SetB3       NaN  consent       NaN          NaN   \n",
      "2       354                 SetB3       NaN      NaN       NaN          NaN   \n",
      "3       354                 SetB3  rapctiec      NaN  practice          NaN   \n",
      "4       354                 SetB3       NaN      NaN       NaN          NaN   \n",
      "\n",
      "  internal_node_id  response        rt       set    setRun  \\\n",
      "0          0.0-0.0       NaN  337019.0       NaN       NaN   \n",
      "1          0.0-1.0         0    1709.0       NaN       NaN   \n",
      "2          0.0-2.0       NaN   17353.0       NaN       NaN   \n",
      "3          0.0-3.0  practice    7974.0  practice  practice   \n",
      "4          0.0-4.0       NaN   53485.0       NaN       NaN   \n",
      "\n",
      "                                            stimulus  subject  time_elapsed  \\\n",
      "0                                                NaN      999        337026   \n",
      "1  <p>By pressing continue below, I understand th...      999        338736   \n",
      "2                                                NaN      999        356091   \n",
      "3                                                NaN      999        364065   \n",
      "4                                                NaN      999        417550   \n",
      "\n",
      "   trial_index            trial_type  \\\n",
      "0            0          instructions   \n",
      "1            1  html-button-response   \n",
      "2            2          instructions   \n",
      "3            3                  gram   \n",
      "4            4          instructions   \n",
      "\n",
      "                                        view_history  error  \n",
      "0  [{'page_index': 0, 'viewing_time': 11539}, {'p...    NaN  \n",
      "1                                                NaN    NaN  \n",
      "2  [{'page_index': 0, 'viewing_time': 2661}, {'pa...    NaN  \n",
      "3                                                NaN    NaN  \n",
      "4  [{'page_index': 0, 'viewing_time': 1876}, {'pa...    NaN  \n",
      "      workerid                  response\n",
      "97         354  611e0d3c67d86e1ff9f58428\n",
      "196        338  60fdbf79f5174b34d8b1e433\n",
      "295        353  6698502e9bc844218a76c883\n",
      "394        336  66560920da8376b11e698777\n",
      "493        335  65df99e9277766a113b7bbeb\n",
      "592        351  664775717664d82e25137e82\n",
      "691        334  664b49be29e4f690e547ab82\n",
      "790        350  6525884ecc7a35638eb3220a\n",
      "889        349  609f528fba531c5195b6cd4e\n",
      "988        333  610040f62de67e474e0c77e2\n",
      "1087       346  65d851f35d9565f1762c32db\n",
      "1186       325                      fish\n",
      "1285       323                     lynde\n",
      "1384       355  6633b81d422c9c1335e554b3\n",
      "1483       331  66b1a89874ddaafba212e591\n",
      "1582       347  60c14a3e834adb62102cffa0\n",
      "1681       330  65a3044cc58190e32f38a327\n",
      "1780       345  66ac7e44544c4c1c5eb38683\n",
      "1879       329  5e43bae59184e3242f23bd31\n",
      "1978       343  60d13d406f3b34d6791c8831\n",
      "2077       341  66a66eda7f7239eb76bc1546\n",
      "2176       328  63d161e70272bba9f3f70980\n",
      "2275       344  663e92a3d1091f0c6beccc7f\n",
      "2374       342  5f8eef372ace000b7ce1dca4\n",
      "2473       358  669b7eb7fd33b2a8e2502ab6\n",
      "2572       356  5b745fb794c93d00010fc4c6\n",
      "2671       324  61037a7204c3bfc31c1289dd\n",
      "2770       340  66186889e582d87630509d30\n",
      "2869       360                      fish\n"
     ]
    }
   ],
   "source": [
    "import pandas as pd\n",
    "# update to the file name to be read\n",
    "# the header is the row that has the collumn names (zero indexed, and verify which is the header row before running)\n",
    "# the sep is the seperator of the data\n",
    "raw_data = pd.read_csv('anagram_rating_pilot.csv', header=0, sep=',') \n",
    "raw_dataf = pd.DataFrame(raw_data) #make the data into a dataframe\n",
    "print(raw_dataf.head()) #print the first 5 rows of the data\n",
    "\n",
    "# going to make a df that is the key, matching workerid with the prolific id. \n",
    "# once we do that, we can save the id key as a csv and then remove prolific id from the data\n",
    "filtered_for_idkey_data = raw_dataf[raw_dataf['id'].str.contains('end_confirm_subjid', na=False)]\n",
    "id_key = filtered_for_idkey_data[['workerid', 'response']].dropna()\n",
    "print(id_key)\n",
    "id_key.to_csv('id_key.csv', index=False) "
   ]
  },
  {
   "cell_type": "markdown",
   "metadata": {},
   "source": [
    "Okay so we made id key for removing the identification, lets remove the data from non prolific people (like me).."
   ]
  },
  {
   "cell_type": "code",
   "execution_count": 3,
   "metadata": {},
   "outputs": [],
   "source": [
    "# group by the workerid then filter out the rows that have worker ids that are for not prolific workers. So in this case I am filtering out Lynde which is rows that are worker id 323.\n",
    "\n",
    "df = raw_dataf[raw_dataf['workerid'] != 323]\n",
    "# remove the rows that contain are containing prolific ids, those would be the rows that have the end_confirm_subjid in the id column\n",
    "df = df[~df['id'].str.contains('end_confirm_subjid', na=False)]\n",
    "\n",
    "#write that to a csv with the date and time in the name\n",
    "from datetime import datetime\n",
    "now = datetime.now()\n",
    "dt_string = now.strftime(\"%Y%m%d_%H%M\")\n",
    "timestamped = 'anagram_rating_pilot_filtered_' + dt_string + '.csv'\n",
    "df.to_csv(timestamped, index=False)"
   ]
  }
 ],
 "metadata": {
  "kernelspec": {
   "display_name": "Python (miniconda3)",
   "language": "python",
   "name": "miniconda3"
  },
  "language_info": {
   "codemirror_mode": {
    "name": "ipython",
    "version": 3
   },
   "file_extension": ".py",
   "mimetype": "text/x-python",
   "name": "python",
   "nbconvert_exporter": "python",
   "pygments_lexer": "ipython3",
   "version": "3.12.1"
  }
 },
 "nbformat": 4,
 "nbformat_minor": 2
}
